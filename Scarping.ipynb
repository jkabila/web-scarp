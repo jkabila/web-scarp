{
  "nbformat": 4,
  "nbformat_minor": 0,
  "metadata": {
    "colab": {
      "provenance": [],
      "authorship_tag": "ABX9TyNenSZqwm1SWDPRuwGd/+jM",
      "include_colab_link": true
    },
    "kernelspec": {
      "name": "python3",
      "display_name": "Python 3"
    },
    "language_info": {
      "name": "python"
    }
  },
  "cells": [
    {
      "cell_type": "markdown",
      "metadata": {
        "id": "view-in-github",
        "colab_type": "text"
      },
      "source": [
        "<a href=\"https://colab.research.google.com/github/jkabila/web-scarp/blob/main/Scarping.ipynb\" target=\"_parent\"><img src=\"https://colab.research.google.com/assets/colab-badge.svg\" alt=\"Open In Colab\"/></a>"
      ]
    },
    {
      "cell_type": "code",
      "source": [
        "import requests\n",
        "from bs4 import BeautifulSoup as bs\n",
        "import json\n",
        "import time\n",
        "import pandas as pd\n",
        "import numpy as np"
      ],
      "metadata": {
        "id": "V5LrRxWmN-lY"
      },
      "execution_count": 39,
      "outputs": []
    },
    {
      "cell_type": "code",
      "source": [
        "url=\"https://www.amazon.in/boAt-Airdopes-200-Plus-Technology/dp/B0CJ8Y7GL5/ref=sr_1_1_sspa?crid=14A6IINZDMPS4&dib=eyJ2IjoiMSJ9.JSxLeYYjVbx3nRdXglU9fGKyTRrqTwWtlffEQU-o4DQcTl26geJnYkUNzH_C71E99Irx2FTJCxmIj0QTqd3MZqmQ3jzKTB3o6iB_tKqgFOuqW8X5bjk4uzCVB9fTcusMIRqgQGO8vQ7klYAH-8W0A02UgSubQZ_YTk-l5l0cQcSSMhtDvAu2h2qr25AQnzOl8_3B2caqKYYNs9en6cTSMqvG9iHSOQ399YQdDxW44Aw.EWalHoCENoXfBNQI1i8gnv7vtAsWVBhBfeD_3AEdKZ8&dib_tag=se&keywords=boat+airdopes&qid=1712223407&sprefix=boat%2Caps%2C474&sr=8-1-spons&sp_csd=d2lkZ2V0TmFtZT1zcF9hdGY&psc=1\""
      ],
      "metadata": {
        "id": "7EdhWS4JdsQB"
      },
      "execution_count": 14,
      "outputs": []
    },
    {
      "cell_type": "code",
      "source": [
        "# get user-agent from https://www.whatismybrowser.com/detect/what-is-my-user-agent/\n",
        "headers=({\"User-Agent\":\"Mozilla/5.0 (Windows NT 10.0; Win64; x64) AppleWebKit/537.36 (KHTML, like Gecko) Chrome/123.0.0.0 Safari/537.36\",'Accept-Language':'en-US,en;q=0.5'})"
      ],
      "metadata": {
        "id": "0HKBP0rgeaL2"
      },
      "execution_count": 15,
      "outputs": []
    },
    {
      "cell_type": "code",
      "source": [
        "response=requests.get(url,headers=headers)"
      ],
      "metadata": {
        "id": "ovwXXduNfUDG"
      },
      "execution_count": 16,
      "outputs": []
    },
    {
      "cell_type": "code",
      "source": [
        "response"
      ],
      "metadata": {
        "colab": {
          "base_uri": "https://localhost:8080/"
        },
        "id": "8dhrHrPvf55J",
        "outputId": "2ddc728d-3aa9-483a-b89f-c46f6fe71ac9"
      },
      "execution_count": 17,
      "outputs": [
        {
          "output_type": "execute_result",
          "data": {
            "text/plain": [
              "<Response [200]>"
            ]
          },
          "metadata": {},
          "execution_count": 17
        }
      ]
    },
    {
      "cell_type": "code",
      "source": [
        "soup=bs(response.content,\"html.parser\")"
      ],
      "metadata": {
        "id": "ye2RgtAxf7yt"
      },
      "execution_count": 18,
      "outputs": []
    },
    {
      "cell_type": "code",
      "source": [
        "product_Title=soup.find(\"span\",attrs={\"id\":'productTitle'}).get_text().strip(\" \")"
      ],
      "metadata": {
        "id": "zYCIzwlLgoa3"
      },
      "execution_count": 28,
      "outputs": []
    },
    {
      "cell_type": "code",
      "source": [
        "price=soup.find(\"span\",attrs={\"class\":\"a-price-whole\"}).get_text()"
      ],
      "metadata": {
        "id": "qWSzYiIOkxCk"
      },
      "execution_count": 29,
      "outputs": []
    },
    {
      "cell_type": "code",
      "source": [
        "rating=soup.find(\"span\",attrs={\"class\":\"a-icon-alt\"}).get_text()"
      ],
      "metadata": {
        "id": "NHS0V16alNYI"
      },
      "execution_count": 30,
      "outputs": []
    },
    {
      "cell_type": "code",
      "source": [
        "print(product_Title)\n",
        "print(price)\n",
        "print(rating)"
      ],
      "metadata": {
        "colab": {
          "base_uri": "https://localhost:8080/"
        },
        "id": "NS-ghT8KmSIf",
        "outputId": "51e1b30c-c65f-4a25-b4de-f9d8436a60f1"
      },
      "execution_count": 31,
      "outputs": [
        {
          "output_type": "stream",
          "name": "stdout",
          "text": [
            "boAt Airdopes 200 Plus in Ear TWS Earbuds, 100 Hours Playback, Quad Mics ENx Technology, 13mm Drivers, Beast Mode(50ms Low Latency), ASAP Charge(5 Min=60 Min), IWP Tech, BT v5.3 & IPX5(Carbon Black)\n",
            "1,099.\n",
            "3.7 out of 5 stars\n"
          ]
        }
      ]
    },
    {
      "cell_type": "code",
      "source": [
        "\n",
        "def product_details(product_url):\n",
        "  URL=product_url\n",
        "  d={\"Title\":[],\"Price\":[],\"Rating\":[]}\n",
        "  headers=({\"User-Agent\":\"Mozilla/5.0 (Windows NT 10.0; Win64; x64) AppleWebKit/537.36 (KHTML, like Gecko) Chrome/123.0.0.0 Safari/537.36\",'Accept-Language':'en-US,en;q=0.5'})\n",
        "  response=requests.get(url,headers=headers)\n",
        "  soup=bs(response.content,\"html.parser\")\n",
        "  product_Title=soup.find(\"span\",attrs={\"id\":'productTitle'}).get_text().strip(\" \")\n",
        "  price=soup.find(\"span\",attrs={\"class\":\"a-price-whole\"}).get_text()\n",
        "  rating=soup.find(\"span\",attrs={\"class\":\"a-icon-alt\"}).get_text()\n",
        "  d[\"Title\"].append(product_Title)\n",
        "  d[\"Price\"].append(price)\n",
        "  d[\"Rating\"].append(rating)\n",
        "  print(d)"
      ],
      "metadata": {
        "id": "pqcgGaJfms3L"
      },
      "execution_count": 51,
      "outputs": []
    },
    {
      "cell_type": "code",
      "source": [
        "output=product_details(\"https://www.amazon.in/boAt-Airdopes-200-Plus-Technology/dp/B0CJ8Y7GL5/ref=sr_1_1_sspa?crid=14A6IINZDMPS4&dib=eyJ2IjoiMSJ9.JSxLeYYjVbx3nRdXglU9fGKyTRrqTwWtlffEQU-o4DQcTl26geJnYkUNzH_C71E99Irx2FTJCxmIj0QTqd3MZqmQ3jzKTB3o6iB_tKqgFOuqW8X5bjk4uzCVB9fTcusMIRqgQGO8vQ7klYAH-8W0A02UgSubQZ_YTk-l5l0cQcSSMhtDvAu2h2qr25AQnzOl8_3B2caqKYYNs9en6cTSMqvG9iHSOQ399YQdDxW44Aw.EWalHoCENoXfBNQI1i8gnv7vtAsWVBhBfeD_3AEdKZ8&dib_tag=se&keywords=boat+airdopes&qid=1712223407&sprefix=boat%2Caps%2C474&sr=8-1-spons&sp_csd=d2lkZ2V0TmFtZT1zcF9hdGY&psc=1\")"
      ],
      "metadata": {
        "colab": {
          "base_uri": "https://localhost:8080/"
        },
        "id": "Pz2VSLRkoZAW",
        "outputId": "76de4c71-15ce-4ea1-e7ba-47a8d9849ec4"
      },
      "execution_count": 53,
      "outputs": [
        {
          "output_type": "stream",
          "name": "stdout",
          "text": [
            "{'Title': ['boAt Airdopes 200 Plus in Ear TWS Earbuds, 100 Hours Playback, Quad Mics ENx Technology, 13mm Drivers, Beast Mode(50ms Low Latency), ASAP Charge(5 Min=60 Min), IWP Tech, BT v5.3 & IPX5(Carbon Black)'], 'Price': ['1,099.'], 'Rating': ['3.7 out of 5 stars']}\n"
          ]
        }
      ]
    }
  ]
}